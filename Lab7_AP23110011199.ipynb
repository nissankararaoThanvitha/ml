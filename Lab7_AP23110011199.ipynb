{
  "nbformat": 4,
  "nbformat_minor": 0,
  "metadata": {
    "colab": {
      "provenance": []
    },
    "kernelspec": {
      "name": "python3",
      "display_name": "Python 3"
    },
    "language_info": {
      "name": "python"
    }
  },
  "cells": [
    {
      "cell_type": "code",
      "source": [
        "import pandas as pd\n",
        "import numpy as np\n",
        "from collections import Counter\n",
        "from sklearn.model_selection import train_test_split\n",
        "from sklearn.preprocessing import LabelEncoder, StandardScaler\n",
        "from sklearn.metrics import accuracy_score\n",
        "from sklearn.neighbors import KNeighborsClassifier"
      ],
      "metadata": {
        "id": "FC1XcFLUHTu8"
      },
      "execution_count": 3,
      "outputs": []
    },
    {
      "cell_type": "code",
      "execution_count": 1,
      "metadata": {
        "colab": {
          "base_uri": "https://localhost:8080/"
        },
        "id": "ozXu8K-DGVib",
        "outputId": "e1813d8f-3005-4cb5-c543-146537ec6b63"
      },
      "outputs": [
        {
          "output_type": "stream",
          "name": "stdout",
          "text": [
            "Requirement already satisfied: gdown in /usr/local/lib/python3.12/dist-packages (5.2.0)\n",
            "Requirement already satisfied: beautifulsoup4 in /usr/local/lib/python3.12/dist-packages (from gdown) (4.13.5)\n",
            "Requirement already satisfied: filelock in /usr/local/lib/python3.12/dist-packages (from gdown) (3.19.1)\n",
            "Requirement already satisfied: requests[socks] in /usr/local/lib/python3.12/dist-packages (from gdown) (2.32.4)\n",
            "Requirement already satisfied: tqdm in /usr/local/lib/python3.12/dist-packages (from gdown) (4.67.1)\n",
            "Requirement already satisfied: soupsieve>1.2 in /usr/local/lib/python3.12/dist-packages (from beautifulsoup4->gdown) (2.8)\n",
            "Requirement already satisfied: typing-extensions>=4.0.0 in /usr/local/lib/python3.12/dist-packages (from beautifulsoup4->gdown) (4.15.0)\n",
            "Requirement already satisfied: charset_normalizer<4,>=2 in /usr/local/lib/python3.12/dist-packages (from requests[socks]->gdown) (3.4.3)\n",
            "Requirement already satisfied: idna<4,>=2.5 in /usr/local/lib/python3.12/dist-packages (from requests[socks]->gdown) (3.10)\n",
            "Requirement already satisfied: urllib3<3,>=1.21.1 in /usr/local/lib/python3.12/dist-packages (from requests[socks]->gdown) (2.5.0)\n",
            "Requirement already satisfied: certifi>=2017.4.17 in /usr/local/lib/python3.12/dist-packages (from requests[socks]->gdown) (2025.8.3)\n",
            "Requirement already satisfied: PySocks!=1.5.7,>=1.5.6 in /usr/local/lib/python3.12/dist-packages (from requests[socks]->gdown) (1.7.1)\n",
            "Downloading...\n",
            "From: https://drive.google.com/uc?id=1ZdhRqYv-JizWV6DxO6C4R_k1kxPhmlF2\n",
            "To: /content/multiclass.csv\n",
            "100% 14.6k/14.6k [00:00<00:00, 52.3MB/s]\n"
          ]
        }
      ],
      "source": [
        "!pip install gdown\n",
        "!gdown 1ZdhRqYv-JizWV6DxO6C4R_k1kxPhmlF2"
      ]
    },
    {
      "cell_type": "code",
      "source": [
        "df = pd.read_csv(\"multiclass.csv\")\n"
      ],
      "metadata": {
        "id": "a9JlRKtLGqpI"
      },
      "execution_count": 5,
      "outputs": []
    },
    {
      "cell_type": "code",
      "source": [
        "print(\"Shape of dataset:\", df.shape)\n",
        "print(\"First 5 rows:\\n\", df.head())"
      ],
      "metadata": {
        "colab": {
          "base_uri": "https://localhost:8080/"
        },
        "id": "zuXEtXV9JFk0",
        "outputId": "10570f82-918f-4de9-dd42-ac8103b180a5"
      },
      "execution_count": 6,
      "outputs": [
        {
          "output_type": "stream",
          "name": "stdout",
          "text": [
            "Shape of dataset: (440, 8)\n",
            "First 5 rows:\n",
            "    Region  Fresh  Milk  Grocery  Frozen  Detergents_Paper  Delicassen  class\n",
            "0       3  12669  9656     7561     214              2674        1338      2\n",
            "1       3   7057  9810     9568    1762              3293        1776      2\n",
            "2       3   6353  8808     7684    2405              3516        7844      2\n",
            "3       3  13265  1196     4221    6404               507        1788      1\n",
            "4       3  22615  5410     7198    3915              1777        5185      1\n"
          ]
        }
      ]
    },
    {
      "cell_type": "code",
      "source": [
        "print(\"\\nMissing values:\\n\", df.isnull().sum())"
      ],
      "metadata": {
        "colab": {
          "base_uri": "https://localhost:8080/"
        },
        "id": "9zoq7eq3JNqT",
        "outputId": "68a8d52a-baf3-4de5-8c80-2743dcbee664"
      },
      "execution_count": 7,
      "outputs": [
        {
          "output_type": "stream",
          "name": "stdout",
          "text": [
            "\n",
            "Missing values:\n",
            " Region              0\n",
            "Fresh               0\n",
            "Milk                0\n",
            "Grocery             0\n",
            "Frozen              0\n",
            "Detergents_Paper    0\n",
            "Delicassen          0\n",
            "class               0\n",
            "dtype: int64\n"
          ]
        }
      ]
    },
    {
      "cell_type": "code",
      "source": [
        "print(\"\\nDuplicate rows:\", df.duplicated().sum())"
      ],
      "metadata": {
        "colab": {
          "base_uri": "https://localhost:8080/"
        },
        "id": "9fCkxKwSJS2o",
        "outputId": "77f84554-7185-47da-a32e-004096c8ad40"
      },
      "execution_count": 8,
      "outputs": [
        {
          "output_type": "stream",
          "name": "stdout",
          "text": [
            "\n",
            "Duplicate rows: 0\n"
          ]
        }
      ]
    },
    {
      "cell_type": "code",
      "source": [
        "print(\"\\nClass distribution:\\n\", df['class'].value_counts())\n"
      ],
      "metadata": {
        "colab": {
          "base_uri": "https://localhost:8080/"
        },
        "id": "rpvO-K2ZJYsl",
        "outputId": "78203eab-03e8-4559-9ca9-da44539b7092"
      },
      "execution_count": 9,
      "outputs": [
        {
          "output_type": "stream",
          "name": "stdout",
          "text": [
            "\n",
            "Class distribution:\n",
            " class\n",
            "2    180\n",
            "3    173\n",
            "1     87\n",
            "Name: count, dtype: int64\n"
          ]
        }
      ]
    },
    {
      "cell_type": "code",
      "source": [
        "X = df.drop(columns=[\"class\"])\n",
        "y = df[\"class\"]"
      ],
      "metadata": {
        "id": "8uooGeFnH0-k"
      },
      "execution_count": 14,
      "outputs": []
    },
    {
      "cell_type": "code",
      "source": [
        "scaler = StandardScaler()\n",
        "X = scaler.fit_transform(X)\n",
        "print(X)"
      ],
      "metadata": {
        "colab": {
          "base_uri": "https://localhost:8080/"
        },
        "id": "Pt-k7t-HKlu6",
        "outputId": "8baa470f-baaf-4e9e-bef4-6958e89d703c"
      },
      "execution_count": 15,
      "outputs": [
        {
          "output_type": "stream",
          "name": "stdout",
          "text": [
            "[[ 0.59066829  0.05293319  0.52356777 ... -0.58936716 -0.04356873\n",
            "  -0.06633906]\n",
            " [ 0.59066829 -0.39130197  0.54445767 ... -0.27013618  0.08640684\n",
            "   0.08915105]\n",
            " [ 0.59066829 -0.44702926  0.40853771 ... -0.13753572  0.13323164\n",
            "   2.24329255]\n",
            " ...\n",
            " [ 0.59066829  0.20032554  1.31467078 ... -0.54337975  2.51121768\n",
            "   0.12145607]\n",
            " [ 0.59066829 -0.13538389 -0.51753572 ... -0.41944059 -0.56977032\n",
            "   0.21304614]\n",
            " [ 0.59066829 -0.72930698 -0.5559243  ... -0.62009417 -0.50488752\n",
            "  -0.52286938]]\n"
          ]
        }
      ]
    },
    {
      "cell_type": "code",
      "source": [
        "X_train, X_test, y_train, y_test = train_test_split(\n",
        "    X, y, test_size=0.2, random_state=42\n",
        ")"
      ],
      "metadata": {
        "id": "G9JreDVbLCot"
      },
      "execution_count": 16,
      "outputs": []
    },
    {
      "cell_type": "code",
      "source": [
        "def euclidean_distance(x1, x2):\n",
        "    return np.sqrt(np.sum((x1 - x2) ** 2))"
      ],
      "metadata": {
        "id": "Vmpq-EgkLLpL"
      },
      "execution_count": 17,
      "outputs": []
    },
    {
      "cell_type": "code",
      "source": [
        "class KNN:\n",
        "    def __init__(self, k=5):\n",
        "        self.k = k\n",
        "\n",
        "    def fit(self, X, y):\n",
        "        self.X_train = X\n",
        "        self.y_train = y.values if isinstance(y, pd.Series) else y\n",
        "\n",
        "    def predict(self, X):\n",
        "        return np.array([self._predict(x) for x in X])\n",
        "\n",
        "    def _predict(self, x):\n",
        "        distances = [euclidean_distance(x, x_train) for x_train in self.X_train]\n",
        "        k_indices = np.argsort(distances)[:self.k]\n",
        "        k_labels = [self.y_train[i] for i in k_indices]\n",
        "        most_common = Counter(k_labels).most_common(1)\n",
        "        return most_common[0][0]\n"
      ],
      "metadata": {
        "id": "qnO1izzML8vT"
      },
      "execution_count": 18,
      "outputs": []
    },
    {
      "cell_type": "code",
      "source": [
        "knn_scratch = KNN(k=5)\n",
        "knn_scratch.fit(X_train, y_train)\n",
        "y_pred_scratch = knn_scratch.predict(X_test)\n",
        "print(y_pred_scratch)"
      ],
      "metadata": {
        "colab": {
          "base_uri": "https://localhost:8080/"
        },
        "id": "FoswW35sMkNP",
        "outputId": "5a780d70-cb8b-400b-84ca-53374c8394df"
      },
      "execution_count": 20,
      "outputs": [
        {
          "output_type": "stream",
          "name": "stdout",
          "text": [
            "[2 3 2 1 3 3 3 2 3 3 3 1 2 3 2 3 2 2 1 3 2 2 2 3 1 1 1 1 3 3 2 2 1 2 1 3 3\n",
            " 2 2 3 3 3 3 3 2 1 2 2 2 1 2 3 3 1 2 3 2 3 2 2 1 3 2 2 2 2 3 2 3 1 2 3 3 3\n",
            " 3 2 2 1 2 3 3 3 1 2 3 2 3 3]\n"
          ]
        }
      ]
    },
    {
      "cell_type": "code",
      "source": [
        "print(\"\\nScratch KNN Accuracy:\", accuracy_score(y_test, y_pred_scratch))"
      ],
      "metadata": {
        "colab": {
          "base_uri": "https://localhost:8080/"
        },
        "id": "KFNmfmQyNaOY",
        "outputId": "f7a9d005-c258-40fe-9db6-88fd1b7226c2"
      },
      "execution_count": 21,
      "outputs": [
        {
          "output_type": "stream",
          "name": "stdout",
          "text": [
            "\n",
            "Scratch KNN Accuracy: 0.8636363636363636\n"
          ]
        }
      ]
    },
    {
      "cell_type": "code",
      "source": [
        "knn_sklearn = KNeighborsClassifier(n_neighbors=5)\n",
        "knn_sklearn.fit(X_train, y_train)\n",
        "y_pred_sklearn = knn_sklearn.predict(X_test)\n",
        "print(\"Sklearn KNN Accuracy:\", accuracy_score(y_test, y_pred_sklearn))"
      ],
      "metadata": {
        "colab": {
          "base_uri": "https://localhost:8080/"
        },
        "id": "TvznP6hLNhd9",
        "outputId": "c3dd95ae-d0e7-4c14-9ac2-5db4800ef7a3"
      },
      "execution_count": 22,
      "outputs": [
        {
          "output_type": "stream",
          "name": "stdout",
          "text": [
            "Sklearn KNN Accuracy: 0.8636363636363636\n"
          ]
        }
      ]
    }
  ]
}